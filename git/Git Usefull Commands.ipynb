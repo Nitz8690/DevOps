{
 "cells": [
  {
   "cell_type": "markdown",
   "metadata": {},
   "source": [
    "# Usefull Instructions for installation, and commands for Git"
   ]
  },
  {
   "cell_type": "markdown",
   "metadata": {},
   "source": []
  },
  {
   "cell_type": "markdown",
   "metadata": {},
   "source": [
    "# GIT: Text Editor for GIT"
   ]
  },
  {
   "cell_type": "markdown",
   "metadata": {},
   "source": [
    "#### Install Sublime Text on Linux/Ubuntu Machine"
   ]
  },
  {
   "cell_type": "markdown",
   "metadata": {},
   "source": [
    "wget -qO - https://download.sublimetext.com/sublimehq-pub.gpg | sudo apt-key add -"
   ]
  },
  {
   "cell_type": "markdown",
   "metadata": {},
   "source": [
    "echo \"deb https://download.sublimetext.com/ apt/stable/\" | sudo tee /etc/apt/sources.list.d/sublime-text.list"
   ]
  },
  {
   "cell_type": "markdown",
   "metadata": {},
   "source": [
    "sudo apt-get update"
   ]
  },
  {
   "cell_type": "markdown",
   "metadata": {},
   "source": [
    "sudo apt-get install sublime-text"
   ]
  },
  {
   "cell_type": "markdown",
   "metadata": {},
   "source": []
  },
  {
   "cell_type": "markdown",
   "metadata": {},
   "source": [
    "# Rename Files"
   ]
  },
  {
   "cell_type": "markdown",
   "metadata": {},
   "source": [
    "git mv current_name new_name"
   ]
  },
  {
   "cell_type": "markdown",
   "metadata": {},
   "source": []
  },
  {
   "cell_type": "markdown",
   "metadata": {},
   "source": [
    "# Move file"
   ]
  },
  {
   "cell_type": "markdown",
   "metadata": {},
   "source": [
    "git mv file_name directory_name"
   ]
  },
  {
   "cell_type": "markdown",
   "metadata": {},
   "source": []
  },
  {
   "cell_type": "markdown",
   "metadata": {},
   "source": [
    "# verify last Commits"
   ]
  },
  {
   "cell_type": "markdown",
   "metadata": {},
   "source": [
    "git log"
   ]
  },
  {
   "cell_type": "markdown",
   "metadata": {},
   "source": []
  },
  {
   "cell_type": "markdown",
   "metadata": {},
   "source": [
    "# Get GIT abbrev Commit Hash"
   ]
  },
  {
   "cell_type": "markdown",
   "metadata": {},
   "source": [
    "git log –-abbrev-log"
   ]
  },
  {
   "cell_type": "markdown",
   "metadata": {},
   "source": []
  },
  {
   "cell_type": "markdown",
   "metadata": {},
   "source": [
    "# Git Online Commit"
   ]
  },
  {
   "cell_type": "markdown",
   "metadata": {},
   "source": [
    "git log –-online - - graph - -decorate"
   ]
  },
  {
   "cell_type": "markdown",
   "metadata": {},
   "source": []
  },
  {
   "cell_type": "markdown",
   "metadata": {},
   "source": [
    "# Date Base Search"
   ]
  },
  {
   "cell_type": "markdown",
   "metadata": {},
   "source": [
    "git log - -since=”2 days ago”\u000b"
   ]
  },
  {
   "cell_type": "markdown",
   "metadata": {},
   "source": []
  },
  {
   "cell_type": "markdown",
   "metadata": {},
   "source": [
    "# Search Commit for specific file"
   ]
  },
  {
   "cell_type": "markdown",
   "metadata": {},
   "source": [
    "git log - -<_file_name>"
   ]
  },
  {
   "cell_type": "markdown",
   "metadata": {},
   "source": []
  },
  {
   "cell_type": "markdown",
   "metadata": {},
   "source": [
    "# Get Details of any commit"
   ]
  },
  {
   "cell_type": "markdown",
   "metadata": {},
   "source": [
    "git show <_commit_id>"
   ]
  },
  {
   "cell_type": "markdown",
   "metadata": {},
   "source": []
  },
  {
   "cell_type": "markdown",
   "metadata": {},
   "source": [
    "# GIT Alias : Long Command, shorter way"
   ]
  },
  {
   "cell_type": "markdown",
   "metadata": {},
   "source": [
    "git config –global alias.<_short_cmnd> “long Cmnd”"
   ]
  },
  {
   "cell_type": "markdown",
   "metadata": {},
   "source": []
  },
  {
   "cell_type": "markdown",
   "metadata": {},
   "source": [
    "# GIT: Branching"
   ]
  },
  {
   "cell_type": "markdown",
   "metadata": {},
   "source": [
    "## Create new branch\n",
    "git branch <_branch_name>\n"
   ]
  },
  {
   "cell_type": "markdown",
   "metadata": {},
   "source": [
    "## Switch Branch in GIT\n",
    "git checkout <branch_name>"
   ]
  },
  {
   "cell_type": "markdown",
   "metadata": {},
   "source": [
    "## Rename Branch\n",
    "git branch -m <_old_name> <_new_name>"
   ]
  },
  {
   "cell_type": "markdown",
   "metadata": {},
   "source": [
    "## Delete Branch\n",
    "git branch -d <branch_name>"
   ]
  },
  {
   "cell_type": "markdown",
   "metadata": {},
   "source": [
    "## List local Branches\n",
    "git branch"
   ]
  },
  {
   "cell_type": "markdown",
   "metadata": {},
   "source": [
    "## Merge one Branch to Another Branch\n",
    "git merge <Source>\n"
   ]
  },
  {
   "cell_type": "markdown",
   "metadata": {},
   "source": [
    "## GIT Merge:\n",
    "#### To incoporate the changes:\n",
    "git checkout feature_branch\n",
    "\n",
    "git merge master"
   ]
  },
  {
   "cell_type": "markdown",
   "metadata": {},
   "source": [
    "## GIT Rebase :\n",
    "#### As an alternative to merging, you can rebase the feature branch onto master branch.\n",
    "git checkout feature_branch\n",
    "\n",
    "git rebase master"
   ]
  },
  {
   "cell_type": "markdown",
   "metadata": {},
   "source": []
  },
  {
   "cell_type": "markdown",
   "metadata": {},
   "source": [
    "## Why GIT Stashing?\n",
    "\n",
    "GIT Stash is used to save your uncommit Changes so that you can work on something else and revert them from your Working Directory."
   ]
  },
  {
   "cell_type": "markdown",
   "metadata": {},
   "source": [
    "git stash\n",
    "\n",
    "git stash apply\n",
    "\n",
    "git stash list\n",
    "\n",
    "git stash drop\n"
   ]
  },
  {
   "cell_type": "markdown",
   "metadata": {},
   "source": [
    "## GIT Stash?\n",
    "\n",
    "By default GIT stash will stash:\n",
    "changes that have been added to your index (staged changes)\u000b",
    "changes made to files that are currently tracked by Git (unstaged changes)\n",
    "\n",
    "## But Not Stash:\n",
    "\n",
    "new files in your working copy that have not yet been staged\u000b",
    "files that have been ignored\n"
   ]
  },
  {
   "cell_type": "markdown",
   "metadata": {},
   "source": [
    "### Find all Tracked Files:\n",
    "git ls-files\n",
    "\n",
    "### Add untracked Files\n",
    "git stash -u\n",
    "\n",
    "### Git Stash Popping”\n",
    "git stash pop"
   ]
  },
  {
   "cell_type": "markdown",
   "metadata": {},
   "source": []
  },
  {
   "cell_type": "markdown",
   "metadata": {},
   "source": []
  },
  {
   "cell_type": "markdown",
   "metadata": {},
   "source": []
  },
  {
   "cell_type": "markdown",
   "metadata": {},
   "source": []
  },
  {
   "cell_type": "markdown",
   "metadata": {},
   "source": [
    "**** Refrence taken from Udemy online Master Devops course. Many Thanks to Udemy"
   ]
  }
 ],
 "metadata": {
  "kernelspec": {
   "display_name": "Python 3",
   "language": "python",
   "name": "python3"
  },
  "language_info": {
   "codemirror_mode": {
    "name": "ipython",
    "version": 3
   },
   "file_extension": ".py",
   "mimetype": "text/x-python",
   "name": "python",
   "nbconvert_exporter": "python",
   "pygments_lexer": "ipython3",
   "version": "3.8.3"
  }
 },
 "nbformat": 4,
 "nbformat_minor": 4
}
